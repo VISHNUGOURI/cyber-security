{
  "nbformat": 4,
  "nbformat_minor": 0,
  "metadata": {
    "colab": {
      "name": "VISHNU MOHAN.S HACKER",
      "provenance": [],
      "collapsed_sections": []
    },
    "kernelspec": {
      "name": "python3",
      "display_name": "Python 3"
    },
    "language_info": {
      "name": "python"
    }
  },
  "cells": [
    {
      "cell_type": "code",
      "metadata": {
        "id": "0ZOEWZ0BLXuf"
      },
      "source": [
        "import requests"
      ],
      "execution_count": 8,
      "outputs": []
    },
    {
      "cell_type": "markdown",
      "metadata": {
        "id": "XjBELXL3LecT"
      },
      "source": [
        "#include os"
      ]
    },
    {
      "cell_type": "code",
      "metadata": {
        "id": "_vq6qktyLpaU"
      },
      "source": [
        "from datetime import datetime"
      ],
      "execution_count": 9,
      "outputs": []
    },
    {
      "cell_type": "code",
      "metadata": {
        "colab": {
          "base_uri": "https://localhost:8080/"
        },
        "id": "WqjN_ehxLwVr",
        "outputId": "7a18f706-2d66-4781-fbb7-350cc794f0c9"
      },
      "source": [
        "api_key='fe53d4a2a5d01dc4440c92da4dfcca32'\n",
        "location=input(\"Enter the city name:\")"
      ],
      "execution_count": 10,
      "outputs": [
        {
          "output_type": "stream",
          "text": [
            "Enter the city name:thiruvananthapuram\n"
          ],
          "name": "stdout"
        }
      ]
    },
    {
      "cell_type": "code",
      "metadata": {
        "id": "zzFf-oJUMAG1"
      },
      "source": [
        "complete_api_link=\"https://api.openweathermap.org/data/2.5/weather?q=thiruvananthapuram&appid=fe53d4a2a5d01dc4440c92da4dfcca32\"\n",
        "api_link=requests.get(complete_api_link)\n",
        "api_data=api_link.json()"
      ],
      "execution_count": 14,
      "outputs": []
    },
    {
      "cell_type": "markdown",
      "metadata": {
        "id": "EIaUUVEnMTyO"
      },
      "source": [
        "#create variable to store and display data"
      ]
    },
    {
      "cell_type": "code",
      "metadata": {
        "id": "FQpUkPnKMd_K"
      },
      "source": [
        "temp__city=((api_data['main']['temp'])-273.15)\n",
        "weather_disc=api_data['weather'][0]['description']\n",
        "hmdt=api_data['main']['humidity']\n",
        "wind_spd=api_data['wind']['speed']\n",
        "date_time=datetime.now().strftime(\"%d %b %Y | %I:%H:%S %p\")"
      ],
      "execution_count": 16,
      "outputs": []
    },
    {
      "cell_type": "code",
      "metadata": {
        "colab": {
          "base_uri": "https://localhost:8080/"
        },
        "id": "i5DRIb4YOE6E",
        "outputId": "c27035ea-60ee-4857-e09c-95eac65239da"
      },
      "source": [
        "print(\"--------------------------------------------------------------\")\n",
        "print(\"Weather stats for -{} || {}\".format(location.upper(), date_time))\n",
        "print(\"----------------------------------------------------------\")"
      ],
      "execution_count": 18,
      "outputs": [
        {
          "output_type": "stream",
          "text": [
            "--------------------------------------------------------------\n",
            "Weather stats for -THIRUVANANTHAPURAM || 22 Jun 2021 | 10:10:10 AM\n",
            "----------------------------------------------------------\n"
          ],
          "name": "stdout"
        }
      ]
    },
    {
      "cell_type": "code",
      "metadata": {
        "colab": {
          "base_uri": "https://localhost:8080/"
        },
        "id": "VvYdZPB1Oz0Q",
        "outputId": "c3e1e999-7c6a-44e9-a21c-b2dcb8bc8cb7"
      },
      "source": [
        "print(\"Current temperature is:{:.2f} deg C\".format(temp__city))\n",
        "print(\"Current weather disc  : \",weather_disc)\n",
        "print(\"Current Humidity      :\",hmdt,'%')\n",
        "print(\"Current wind speed    :\",wind_spd,'kmph')"
      ],
      "execution_count": 26,
      "outputs": [
        {
          "output_type": "stream",
          "text": [
            "Current temperature is:28.99 deg C\n",
            "Current weather disc  :  haze\n",
            "Current Humidity      : 84 %\n",
            "Current wind speed    : 5.14 kmph\n"
          ],
          "name": "stdout"
        }
      ]
    }
  ]
}